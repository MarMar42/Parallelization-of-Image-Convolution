{
 "cells": [
  {
   "cell_type": "code",
   "execution_count": 2,
   "metadata": {},
   "outputs": [],
   "source": [
    "from PIL import Image"
   ]
  },
  {
   "cell_type": "code",
   "execution_count": 5,
   "metadata": {},
   "outputs": [],
   "source": [
    "L = [\"lena_bw_seq\"]\n",
    "LF = [\"LenaEdge\",\"LenaBlur9\",\"LenaBlur25\",\"LenaBlur49\"]\n",
    "\n",
    "for f in LF:\n",
    "    for s in L:\n",
    "        pgm = f+'/'+s+ \".pgm\"\n",
    "        png = \"C:/Users/Marc/Desktop/University/2020/HPC/HPC-Assignment3/Results/Images/\"+f+'/'+s+\".png\"\n",
    "        Image.open(pgm).save(png)\n",
    "    \n",
    "    \n",
    "    "
   ]
  },
  {
   "cell_type": "code",
   "execution_count": null,
   "metadata": {},
   "outputs": [],
   "source": []
  }
 ],
 "metadata": {
  "kernelspec": {
   "display_name": "Python 3",
   "language": "python",
   "name": "python3"
  },
  "language_info": {
   "codemirror_mode": {
    "name": "ipython",
    "version": 3
   },
   "file_extension": ".py",
   "mimetype": "text/x-python",
   "name": "python",
   "nbconvert_exporter": "python",
   "pygments_lexer": "ipython3",
   "version": "3.7.3"
  }
 },
 "nbformat": 4,
 "nbformat_minor": 2
}
